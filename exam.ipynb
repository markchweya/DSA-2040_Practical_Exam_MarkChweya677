{
 "cells": [
  {
   "cell_type": "code",
   "execution_count": null,
   "metadata": {},
   "outputs": [
    {
     "data": {
      "text/plain": [
       "('\\\\mnt\\\\data\\\\DSA_2040_Practical_Exam_MarkChweya677_Task1\\\\Task1_Star_Schema.ipynb',\n",
       " '\\\\mnt\\\\data\\\\DSA_2040_Practical_Exam_MarkChweya677_Task1\\\\assets\\\\star_schema_task1.png',\n",
       " '\\\\mnt\\\\data\\\\DSA_2040_Practical_Exam_MarkChweya677_Task1\\\\schema_task1.sql')"
      ]
     },
     "execution_count": 1,
     "metadata": {},
     "output_type": "execute_result"
    },
    {
     "ename": "",
     "evalue": "",
     "output_type": "error",
     "traceback": [
      "\u001b[1;31mThe Kernel crashed while executing code in the current cell or a previous cell. \n",
      "\u001b[1;31mPlease review the code in the cell(s) to identify a possible cause of the failure. \n",
      "\u001b[1;31mClick <a href='https://aka.ms/vscodeJupyterKernelCrash'>here</a> for more info. \n",
      "\u001b[1;31mView Jupyter <a href='command:jupyter.viewOutput'>log</a> for further details."
     ]
    }
   ],
   "source": [
    "# TODO: Generate star schema diagram using matplotlib or graphviz\n",
    "\n",
    "import matplotlib.pyplot as plt\n",
    "\n",
    "# Create figure\n",
    "fig, ax = plt.subplots(figsize=(8, 6))\n",
    "\n",
    "# Main fact table\n",
    "ax.text(0.5, 0.9, \"SalesFact\\n(SaleID, CustomerID, ProductID, TimeID, Quantity, UnitPrice, TotalSales)\",\n",
    "        ha=\"center\", va=\"center\", fontsize=10, bbox=dict(facecolor='lightblue', edgecolor='black'))\n",
    "\n",
    "# Dimension tables\n",
    "ax.text(0.2, 0.6, \"CustomerDim\\n(CustomerID, Name, Country)\",\n",
    "        ha=\"center\", va=\"center\", fontsize=9, bbox=dict(facecolor='lightgreen', edgecolor='black'))\n",
    "\n",
    "ax.text(0.5, 0.6, \"ProductDim\\n(ProductID, Name, Category)\",\n",
    "        ha=\"center\", va=\"center\", fontsize=9, bbox=dict(facecolor='lightgreen', edgecolor='black'))\n",
    "\n",
    "ax.text(0.8, 0.6, \"TimeDim\\n(TimeID, Date, Month, Quarter, Year)\",\n",
    "        ha=\"center\", va=\"center\", fontsize=9, bbox=dict(facecolor='lightgreen', edgecolor='black'))\n",
    "\n",
    "# Connect dimensions to fact table\n",
    "ax.plot([0.5, 0.2], [0.85, 0.65], 'k-')\n",
    "ax.plot([0.5, 0.5], [0.85, 0.65], 'k-')\n",
    "ax.plot([0.5, 0.8], [0.85, 0.65], 'k-')\n",
    "\n",
    "# Hide axes\n",
    "ax.axis('off')\n",
    "\n",
    "# Save and show\n",
    "plt.savefig(\"star_schema.png\", bbox_inches=\"tight\")\n",
    "plt.show()\n"
   ]
  }
 ],
 "metadata": {
  "kernelspec": {
   "display_name": "Python 3",
   "language": "python",
   "name": "python3"
  },
  "language_info": {
   "codemirror_mode": {
    "name": "ipython",
    "version": 3
   },
   "file_extension": ".py",
   "mimetype": "text/x-python",
   "name": "python",
   "nbconvert_exporter": "python",
   "pygments_lexer": "ipython3",
   "version": "3.11.4"
  }
 },
 "nbformat": 4,
 "nbformat_minor": 5
}
